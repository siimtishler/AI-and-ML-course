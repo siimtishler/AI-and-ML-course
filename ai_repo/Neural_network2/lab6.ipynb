{
  "cells": [
    {
      "cell_type": "markdown",
      "metadata": {
        "id": "x4HI2mpwlrcn"
      },
      "source": [
        "##### Copyright 2019 The TensorFlow Authors."
      ]
    },
    {
      "cell_type": "code",
      "execution_count": null,
      "metadata": {
        "cellView": "form",
        "id": "679Lmwt3l1Bk"
      },
      "outputs": [],
      "source": [
        "#@title Licensed under the Apache License, Version 2.0 (the \"License\");\n",
        "# you may not use this file except in compliance with the License.\n",
        "# You may obtain a copy of the License at\n",
        "#\n",
        "# https://www.apache.org/licenses/LICENSE-2.0\n",
        "#\n",
        "# Unless required by applicable law or agreed to in writing, software\n",
        "# distributed under the License is distributed on an \"AS IS\" BASIS,\n",
        "# WITHOUT WARRANTIES OR CONDITIONS OF ANY KIND, either express or implied.\n",
        "# See the License for the specific language governing permissions and\n",
        "# limitations under the License."
      ]
    },
    {
      "cell_type": "markdown",
      "metadata": {
        "id": "DSPCom-KmApV"
      },
      "source": [
        "# What does a neural network learn?"
      ]
    },
    {
      "cell_type": "markdown",
      "metadata": {
        "id": "PslnzB4Y0xPo"
      },
      "source": [
        "### Setting up"
      ]
    },
    {
      "cell_type": "markdown",
      "source": [
        "**Notebook setup**. Select the \"Edit\" menu, then \"Notebook settings\". Choose \"GPU\" as the hardware accelerator. Check that \"Omit code cell output...\" is unchecked (so that the output is saved).\n",
        "\n",
        "**Upload dataset** Select the folder icon from the left sidebar menu. Click the upload button and select the file \"lab6data.zip\" from your computer.\n",
        "\n",
        "![upload2.jpg](data:image/jpeg;base64,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)"
      ],
      "metadata": {
        "id": "o5O0p0HC03C5"
      }
    },
    {
      "cell_type": "markdown",
      "metadata": {
        "id": "jRFxccghyMVo"
      },
      "source": [
        "### Extract the dataset"
      ]
    },
    {
      "cell_type": "code",
      "source": [
        "!unzip lab6data.zip"
      ],
      "metadata": {
        "id": "AFkV6atu6HGi"
      },
      "execution_count": null,
      "outputs": []
    },
    {
      "cell_type": "code",
      "source": [
        "from PIL import Image\n",
        "im = Image.open(\"lab6/train/Cat/161.jpg\")\n",
        "display(im)"
      ],
      "metadata": {
        "id": "dZy6e26-73QY",
        "colab": {
          "base_uri": "https://localhost:8080/",
          "height": 81
        },
        "outputId": "96e772e8-d03a-4655-b35f-ed8a96a99b67"
      },
      "execution_count": 19,
      "outputs": [
        {
          "output_type": "display_data",
          "data": {
            "text/plain": [
              "<PIL.JpegImagePlugin.JpegImageFile image mode=RGB size=64x64>"
            ],
            "image/png": "[encoded data removed]"
          },
          "metadata": {}
        }
      ]
    },
    {
      "cell_type": "markdown",
      "metadata": {
        "id": "m7KBpffWzlxH"
      },
      "source": [
        "### Import TensorFlow"
      ]
    },
    {
      "cell_type": "code",
      "execution_count": 20,
      "metadata": {
        "id": "iAve6DCL4JH4"
      },
      "outputs": [],
      "source": [
        "import tensorflow as tf\n",
        "\n",
        "from tensorflow.keras import layers, models\n"
      ]
    },
    {
      "cell_type": "markdown",
      "source": [
        "### Prepare the dataset for Keras"
      ],
      "metadata": {
        "id": "PiYi9Rtt-JA5"
      }
    },
    {
      "cell_type": "code",
      "source": [
        "train_ds = tf.keras.preprocessing.image_dataset_from_directory(\"lab6/train\",\n",
        "    label_mode=\"categorical\",\n",
        "    color_mode=\"rgb\",\n",
        "    batch_size=32,\n",
        "    image_size=(64, 64))"
      ],
      "metadata": {
        "id": "BIRVWB6F-QM3",
        "colab": {
          "base_uri": "https://localhost:8080/"
        },
        "outputId": "dc46d766-1d37-41f0-e6eb-3591a79a77f4"
      },
      "execution_count": 41,
      "outputs": [
        {
          "output_type": "stream",
          "name": "stdout",
          "text": [
            "Found 1800 files belonging to 2 classes.\n",
            "<_PrefetchDataset element_spec=(TensorSpec(shape=(None, 64, 64, 3), dtype=tf.float32, name=None), TensorSpec(shape=(None, 2), dtype=tf.float32, name=None))>\n"
          ]
        }
      ]
    },
    {
      "cell_type": "code",
      "source": [
        "test_ds = tf.keras.preprocessing.image_dataset_from_directory(\"lab6/test\",\n",
        "    label_mode=\"categorical\",\n",
        "    color_mode=\"rgb\",\n",
        "    batch_size=32,\n",
        "    image_size=(64, 64))"
      ],
      "metadata": {
        "id": "ZLnFVowvBgkN",
        "colab": {
          "base_uri": "https://localhost:8080/"
        },
        "outputId": "0f49f52e-6f48-4c42-ed6a-fc976947ce01"
      },
      "execution_count": 22,
      "outputs": [
        {
          "output_type": "stream",
          "name": "stdout",
          "text": [
            "Found 200 files belonging to 2 classes.\n"
          ]
        }
      ]
    },
    {
      "cell_type": "markdown",
      "metadata": {
        "id": "Oewp-wYg31t9"
      },
      "source": [
        "### Experiment 1: train a model from scratch"
      ]
    },
    {
      "cell_type": "markdown",
      "metadata": {
        "id": "3hQvqXpNyN3x"
      },
      "source": [
        "Follow the instructions in moodle. You can start adding code in cells below and running them by pressing the forward arrow button in the corner. Add more cells as needed."
      ]
    },
    {
      "cell_type": "code",
      "execution_count": 23,
      "metadata": {
        "id": "L9YmGQBQPrdn"
      },
      "outputs": [],
      "source": [
        "def make_cnn_model():\n",
        "    model = models.Sequential()\n",
        "    model.add(layers.Conv2D(32, (3, 3), activation='relu', input_shape=(64, 64, 3)))\n",
        "    model.add(layers.MaxPooling2D((2, 2)))\n",
        "    model.add(layers.Conv2D(64, (3, 3), activation='relu'))\n",
        "    model.add(layers.MaxPooling2D((2, 2)))\n",
        "    model.add(layers.Conv2D(64, (3, 3), activation='relu'))\n",
        "    model.add(layers.Flatten())\n",
        "    model.add(layers.Dense(64, activation='relu'))\n",
        "    model.add(layers.Dense(2))\n",
        "    return model\n",
        "\n",
        "model = make_cnn_model()"
      ]
    },
    {
      "cell_type": "code",
      "execution_count": 24,
      "metadata": {
        "id": "8Yu_m-TZUWGX",
        "colab": {
          "base_uri": "https://localhost:8080/"
        },
        "outputId": "9174e23b-b887-4d94-da94-97ff9d6fd956"
      },
      "outputs": [
        {
          "output_type": "stream",
          "name": "stdout",
          "text": [
            "Epoch 1/15\n",
            "57/57 [==============================] - 2s 8ms/step - loss: 4.9247 - accuracy: 0.5089\n",
            "Epoch 2/15\n",
            "57/57 [==============================] - 0s 8ms/step - loss: 0.6788 - accuracy: 0.5628\n",
            "Epoch 3/15\n",
            "57/57 [==============================] - 0s 7ms/step - loss: 0.6703 - accuracy: 0.5850\n",
            "Epoch 4/15\n",
            "57/57 [==============================] - 0s 8ms/step - loss: 0.6544 - accuracy: 0.6128\n",
            "Epoch 5/15\n",
            "57/57 [==============================] - 0s 7ms/step - loss: 0.6528 - accuracy: 0.6089\n",
            "Epoch 6/15\n",
            "57/57 [==============================] - 0s 8ms/step - loss: 0.6151 - accuracy: 0.6494\n",
            "Epoch 7/15\n",
            "57/57 [==============================] - 0s 7ms/step - loss: 0.5819 - accuracy: 0.6783\n",
            "Epoch 8/15\n",
            "57/57 [==============================] - 0s 8ms/step - loss: 0.5527 - accuracy: 0.7156\n",
            "Epoch 9/15\n",
            "57/57 [==============================] - 0s 7ms/step - loss: 0.5049 - accuracy: 0.7417\n",
            "Epoch 10/15\n",
            "57/57 [==============================] - 0s 7ms/step - loss: 0.4652 - accuracy: 0.7672\n",
            "Epoch 11/15\n",
            "57/57 [==============================] - 0s 7ms/step - loss: 0.4110 - accuracy: 0.8011\n",
            "Epoch 12/15\n",
            "57/57 [==============================] - 0s 7ms/step - loss: 0.3958 - accuracy: 0.8017\n",
            "Epoch 13/15\n",
            "57/57 [==============================] - 0s 7ms/step - loss: 0.3326 - accuracy: 0.8472\n",
            "Epoch 14/15\n",
            "57/57 [==============================] - 0s 8ms/step - loss: 0.3132 - accuracy: 0.8667\n",
            "Epoch 15/15\n",
            "57/57 [==============================] - 0s 8ms/step - loss: 0.2663 - accuracy: 0.8839\n"
          ]
        }
      ],
      "source": [
        "model.compile(optimizer=\"adam\",\n",
        "              loss=tf.keras.losses.CategoricalCrossentropy(from_logits=True),\n",
        "              metrics=[\"accuracy\"])\n",
        "history = model.fit(train_ds, epochs=15)"
      ]
    },
    {
      "cell_type": "code",
      "source": [
        "test_loss, test_acc = model.evaluate(test_ds, verbose=2)\n",
        "print(test_acc)"
      ],
      "metadata": {
        "colab": {
          "base_uri": "https://localhost:8080/"
        },
        "id": "zbhPYrZWunNk",
        "outputId": "09f44f05-aa32-4f5a-dffb-c5d6544493f0"
      },
      "execution_count": 25,
      "outputs": [
        {
          "output_type": "stream",
          "name": "stdout",
          "text": [
            "7/7 - 0s - loss: 1.1937 - accuracy: 0.5650 - 178ms/epoch - 25ms/step\n",
            "0.5649999976158142\n"
          ]
        }
      ]
    },
    {
      "cell_type": "markdown",
      "source": [
        "Q1: What was the result (average accuracy of classifying cats and dogs in experiment 1)? Explain or comment the result. [The average accuracy of classifying cats and dogs was 56.5%. This accuracy is really bad. Determining between 2 classes and ~50% result is almost the same as choosing randomly if it is a cat or dog.]"
      ],
      "metadata": {
        "id": "EPvQeHUZTesG"
      }
    },
    {
      "cell_type": "markdown",
      "metadata": {
        "id": "8cfJ8AR03gT5"
      },
      "source": [
        "### Experiment 2: side channel data"
      ]
    },
    {
      "cell_type": "code",
      "source": [
        "!mkdir -p lab6/train2/Cat lab6/train2/Dog lab6/test2/Cat lab6/test2/Dog\n"
      ],
      "metadata": {
        "id": "mYigv5KCTMHl"
      },
      "execution_count": 11,
      "outputs": []
    },
    {
      "cell_type": "code",
      "source": [
        "import os\n",
        "import os.path\n",
        "from PIL import ImageDraw"
      ],
      "metadata": {
        "id": "ldEPdYoh1vgu"
      },
      "execution_count": 12,
      "outputs": []
    },
    {
      "cell_type": "code",
      "source": [
        "def inject_text(ipath, opath, text):\n",
        "    files = os.listdir(ipath)\n",
        "    for fn in files:\n",
        "        src = os.path.join(ipath, os.path.basename(fn))\n",
        "        dest = os.path.join(opath, os.path.basename(fn))\n",
        "        im = Image.open(src)\n",
        "        canvas = ImageDraw.Draw(im)\n",
        "        canvas.text((3,3), text, fill=(255, 0, 0))\n",
        "        im.save(dest)"
      ],
      "metadata": {
        "id": "bVj6gIEc1wu6"
      },
      "execution_count": 13,
      "outputs": []
    },
    {
      "cell_type": "code",
      "source": [
        "inject_text(\"lab6/train/Cat\", \"lab6/train2/Cat\", \"Cat\")\n",
        "inject_text(\"lab6/train/Dog\", \"lab6/train2/Dog\", \"Dog\")\n",
        "inject_text(\"lab6/test/Cat\", \"lab6/test2/Cat\", \"Cat\")\n",
        "inject_text(\"lab6/test/Dog\", \"lab6/test2/Dog\", \"Dog\")"
      ],
      "metadata": {
        "id": "9I8os95fT-34"
      },
      "execution_count": 14,
      "outputs": []
    },
    {
      "cell_type": "code",
      "source": [
        "im = Image.open(\"lab6/train2/Cat/161.jpg\")\n",
        "display(im)"
      ],
      "metadata": {
        "colab": {
          "base_uri": "https://localhost:8080/",
          "height": 81
        },
        "id": "Rc0fE9jt1yrh",
        "outputId": "fb0e14d5-e5d4-4888-c07a-ed744d618fd5"
      },
      "execution_count": 15,
      "outputs": [
        {
          "output_type": "display_data",
          "data": {
            "text/plain": [
              "<PIL.JpegImagePlugin.JpegImageFile image mode=RGB size=64x64>"
            ],
            "image/png": "[encoded data removed]"
          },
          "metadata": {}
        }
      ]
    },
    {
      "cell_type": "code",
      "source": [
        "train_ds2 = tf.keras.preprocessing.image_dataset_from_directory(\"lab6/train2\",\n",
        "    label_mode=\"categorical\",\n",
        "    color_mode=\"rgb\",\n",
        "    batch_size=32,\n",
        "    image_size=(64, 64))\n",
        "test_ds2 = tf.keras.preprocessing.image_dataset_from_directory(\"lab6/test2\",\n",
        "    label_mode=\"categorical\",\n",
        "    color_mode=\"rgb\",\n",
        "    batch_size=32,\n",
        "    image_size=(64, 64))"
      ],
      "metadata": {
        "colab": {
          "base_uri": "https://localhost:8080/"
        },
        "id": "iX_-lleP1ylH",
        "outputId": "b2a3d7f6-752b-488d-bbe2-fee8e5a7746d"
      },
      "execution_count": 26,
      "outputs": [
        {
          "output_type": "stream",
          "name": "stdout",
          "text": [
            "Found 1800 files belonging to 2 classes.\n",
            "Found 200 files belonging to 2 classes.\n"
          ]
        }
      ]
    },
    {
      "cell_type": "code",
      "source": [
        "model2 = make_cnn_model()\n",
        "model2.compile(optimizer=\"adam\",\n",
        "              loss=tf.keras.losses.CategoricalCrossentropy(from_logits=True),\n",
        "              metrics=[\"accuracy\"])\n",
        "history = model2.fit(train_ds2, epochs=5)"
      ],
      "metadata": {
        "colab": {
          "base_uri": "https://localhost:8080/"
        },
        "id": "ATgUyxwR1yWO",
        "outputId": "5febeb80-4500-4c41-d406-c156462ef8bf"
      },
      "execution_count": 27,
      "outputs": [
        {
          "output_type": "stream",
          "name": "stdout",
          "text": [
            "Epoch 1/5\n",
            "57/57 [==============================] - 2s 8ms/step - loss: 8.4513 - accuracy: 0.6817\n",
            "Epoch 2/5\n",
            "57/57 [==============================] - 0s 7ms/step - loss: 0.0418 - accuracy: 0.9889\n",
            "Epoch 3/5\n",
            "57/57 [==============================] - 0s 8ms/step - loss: 0.0027 - accuracy: 0.9994\n",
            "Epoch 4/5\n",
            "57/57 [==============================] - 0s 7ms/step - loss: 3.4459e-04 - accuracy: 1.0000\n",
            "Epoch 5/5\n",
            "57/57 [==============================] - 0s 8ms/step - loss: 8.0230e-05 - accuracy: 1.0000\n"
          ]
        }
      ]
    },
    {
      "cell_type": "code",
      "source": [
        "test_loss, test_acc = model2.evaluate(test_ds2, verbose=2)\n",
        "print(test_acc)"
      ],
      "metadata": {
        "colab": {
          "base_uri": "https://localhost:8080/"
        },
        "id": "PsTnWo5X1-FE",
        "outputId": "eb0b640a-f850-4dcf-9f84-ff55ae32f697"
      },
      "execution_count": 28,
      "outputs": [
        {
          "output_type": "stream",
          "name": "stdout",
          "text": [
            "7/7 - 0s - loss: 3.6131e-04 - accuracy: 1.0000 - 202ms/epoch - 29ms/step\n",
            "1.0\n"
          ]
        }
      ]
    },
    {
      "cell_type": "markdown",
      "source": [],
      "metadata": {
        "id": "Z_dLc7Bf1x_2"
      }
    },
    {
      "cell_type": "markdown",
      "source": [
        "Q2: What was the result after injecting \"hints\" into images? Explain or comment the result. [The accuracy for this was 100%. But the \"purpose\" of the model changed. It no longer detects cat or dog images, however it is now a word detection model, when it finds the word 'cat' that is also coincidentally on a cat photo it says the photo has a cat on it. If i were to put the word 'cat' on a dog photo now, it would also classify that photo as a cat, which would be wrong. The images are now basically irrelevant.]"
      ],
      "metadata": {
        "id": "D9iD0r3tZTIx"
      }
    },
    {
      "cell_type": "markdown",
      "source": [
        "### Experiment 3: adversarial data"
      ],
      "metadata": {
        "id": "CheihnZ-Ygon"
      }
    },
    {
      "cell_type": "code",
      "source": [
        "!mkdir -p lab6/test3/Cat lab6/test3/Dog"
      ],
      "metadata": {
        "id": "UvJ47uuOYmG8"
      },
      "execution_count": 29,
      "outputs": []
    },
    {
      "cell_type": "code",
      "source": [
        "inject_text(\"lab6/test/Cat\", \"lab6/test3/Cat\", \"Dog\")\n",
        "inject_text(\"lab6/test/Dog\", \"lab6/test3/Dog\", \"Cat\")\n",
        "im = Image.open(\"lab6/test3/Dog/10010.jpg\")\n",
        "display(im)"
      ],
      "metadata": {
        "colab": {
          "base_uri": "https://localhost:8080/",
          "height": 81
        },
        "id": "xw5ppwLu7O5p",
        "outputId": "81381fcd-8083-4c65-ba3c-d1867e088bda"
      },
      "execution_count": 30,
      "outputs": [
        {
          "output_type": "display_data",
          "data": {
            "text/plain": [
              "<PIL.JpegImagePlugin.JpegImageFile image mode=RGB size=64x64>"
            ],
            "image/png": "[encoded data removed]"
          },
          "metadata": {}
        }
      ]
    },
    {
      "cell_type": "code",
      "source": [
        "test_ds3 = tf.keras.preprocessing.image_dataset_from_directory(\"lab6/test3\",\n",
        "    label_mode=\"categorical\",\n",
        "    color_mode=\"rgb\",\n",
        "    batch_size=32,\n",
        "    image_size=(64, 64))"
      ],
      "metadata": {
        "colab": {
          "base_uri": "https://localhost:8080/"
        },
        "id": "b3cyO_jp7O3e",
        "outputId": "25dead83-1b40-4f49-f239-b2bb343126c2"
      },
      "execution_count": 31,
      "outputs": [
        {
          "output_type": "stream",
          "name": "stdout",
          "text": [
            "Found 200 files belonging to 2 classes.\n"
          ]
        }
      ]
    },
    {
      "cell_type": "code",
      "source": [
        "test_loss, test_acc = model2.evaluate(test_ds3, verbose=2)\n",
        "print(test_acc)"
      ],
      "metadata": {
        "colab": {
          "base_uri": "https://localhost:8080/"
        },
        "id": "c3aaFB1E7O1F",
        "outputId": "5a8de3bc-8b34-44e5-c2bf-46cdff4a25fa"
      },
      "execution_count": 32,
      "outputs": [
        {
          "output_type": "stream",
          "name": "stdout",
          "text": [
            "7/7 - 0s - loss: 11.2005 - accuracy: 0.0000e+00 - 71ms/epoch - 10ms/step\n",
            "0.0\n"
          ]
        }
      ]
    },
    {
      "cell_type": "markdown",
      "source": [
        "Q3: What was the result after reversing the captions on test images? Explain or comment the result.[The accuracy is now at 0%, because the model thinks that if a pic has the word 'cat' on it, then it's a cat photo and same for the word 'dog'. Now that the words are switched around the models accuracy is 0%]"
      ],
      "metadata": {
        "id": "ioxw70aSZgl0"
      }
    },
    {
      "cell_type": "markdown",
      "source": [
        "### Experiment 4: transfer learning"
      ],
      "metadata": {
        "id": "MCoIF5qlajTD"
      }
    },
    {
      "cell_type": "code",
      "source": [
        "base_model = tf.keras.applications.ResNet50(include_top=False)\n",
        "base_model.trainable = False"
      ],
      "metadata": {
        "id": "rvFsRPtv-Jef"
      },
      "execution_count": 34,
      "outputs": []
    },
    {
      "cell_type": "code",
      "source": [
        "def make_pretrained_model(base_model):\n",
        "    inputs = tf.keras.Input(shape=(224, 224, 3))\n",
        "    x = base_model(inputs, training=False)\n",
        "    x = layers.GlobalAveragePooling2D()(x)\n",
        "    outputs = layers.Dense(2)(x)\n",
        "    model = tf.keras.Model(inputs, outputs)\n",
        "    return model"
      ],
      "metadata": {
        "id": "lsE91M1A-KD7"
      },
      "execution_count": 35,
      "outputs": []
    },
    {
      "cell_type": "code",
      "source": [
        "model4 = make_pretrained_model(base_model)"
      ],
      "metadata": {
        "id": "fsEYmg5l-KBN"
      },
      "execution_count": 36,
      "outputs": []
    },
    {
      "cell_type": "code",
      "source": [
        "train_ds4 = tf.keras.preprocessing.image_dataset_from_directory(\"lab6/train2\",\n",
        "    label_mode=\"categorical\",\n",
        "    color_mode=\"rgb\",\n",
        "    batch_size=32,\n",
        "    image_size=(224, 224))"
      ],
      "metadata": {
        "colab": {
          "base_uri": "https://localhost:8080/"
        },
        "id": "qvmf4oDI-J-4",
        "outputId": "9dd81e7f-b348-45c7-b159-46d8f405afa3"
      },
      "execution_count": 37,
      "outputs": [
        {
          "output_type": "stream",
          "name": "stdout",
          "text": [
            "Found 1800 files belonging to 2 classes.\n"
          ]
        }
      ]
    },
    {
      "cell_type": "code",
      "source": [
        "model4.compile(optimizer=\"adam\",\n",
        "              loss=tf.keras.losses.CategoricalCrossentropy(from_logits=True),\n",
        "              metrics=[\"accuracy\"])\n",
        "model4.fit(train_ds4, epochs=15)"
      ],
      "metadata": {
        "id": "YSkr9bpWanzL"
      },
      "execution_count": null,
      "outputs": []
    },
    {
      "cell_type": "code",
      "source": [
        "test_ds4 = tf.keras.preprocessing.image_dataset_from_directory(\"lab6/test3\",\n",
        "    label_mode=\"categorical\",\n",
        "    color_mode=\"rgb\",\n",
        "    batch_size=32,\n",
        "    image_size=(224, 224))"
      ],
      "metadata": {
        "colab": {
          "base_uri": "https://localhost:8080/"
        },
        "id": "IMK3VBH1-PEf",
        "outputId": "06bc3ee1-fad0-49a4-a41f-0715a48ff10a"
      },
      "execution_count": 61,
      "outputs": [
        {
          "output_type": "stream",
          "name": "stdout",
          "text": [
            "Found 200 files belonging to 2 classes.\n"
          ]
        }
      ]
    },
    {
      "cell_type": "code",
      "source": [
        "test_loss, test_acc = model4.evaluate(test_ds4, verbose=2)\n",
        "print(test_acc)"
      ],
      "metadata": {
        "colab": {
          "base_uri": "https://localhost:8080/"
        },
        "id": "wA1kI80H-O2X",
        "outputId": "7209acb0-d27b-4505-bf32-693703d6a741"
      },
      "execution_count": 62,
      "outputs": [
        {
          "output_type": "stream",
          "name": "stdout",
          "text": [
            "7/7 - 1s - loss: 0.2228 - accuracy: 0.8900 - 767ms/epoch - 110ms/step\n",
            "0.8899999856948853\n"
          ]
        }
      ]
    },
    {
      "cell_type": "markdown",
      "source": [
        "Q4: The ResNet50 model was trained with \"Cat\" and \"Dog\" captions placed correctly and tested with the captions reversed like in experiment 3. What happened? Explain or comment the result. [The  ResNet50 deep neural network model had an accuracy of 89%, even if the training data and the test data contained opposite words of 'cat' and 'dog' on the images, the model understood that the words were not the only relevant data, it also looked what the images contained. I also tried retraining the model with the first train datasets where there were no captions placed on the images to see if the accuracy would increase. The accuracy increased slightly ~1.5%. When running the test2 data with the train2 data, where the captions were placed correctly, the accuracy was the highest. The outcomes were very logical.]"
      ],
      "metadata": {
        "id": "k8qqnD3-f_eg"
      }
    },
    {
      "cell_type": "code",
      "source": [
        "model5 = make_pretrained_model(base_model)"
      ],
      "metadata": {
        "id": "1TKY-QzuCt99"
      },
      "execution_count": 44,
      "outputs": []
    },
    {
      "cell_type": "code",
      "source": [
        "train_ds5 = tf.keras.preprocessing.image_dataset_from_directory(\"lab6/train\",\n",
        "    label_mode=\"categorical\",\n",
        "    color_mode=\"rgb\",\n",
        "    batch_size=32,\n",
        "    image_size=(224, 224))"
      ],
      "metadata": {
        "colab": {
          "base_uri": "https://localhost:8080/"
        },
        "id": "mOXdHhRzCVyI",
        "outputId": "5dbdf196-fb62-4b9e-db8e-4fa21d6e5426"
      },
      "execution_count": 51,
      "outputs": [
        {
          "output_type": "stream",
          "name": "stdout",
          "text": [
            "Found 1800 files belonging to 2 classes.\n"
          ]
        }
      ]
    },
    {
      "cell_type": "code",
      "source": [
        "model5.compile(optimizer=\"adam\",\n",
        "              loss=tf.keras.losses.CategoricalCrossentropy(from_logits=True),\n",
        "              metrics=[\"accuracy\"])\n",
        "model5.fit(train_ds5, epochs=15)"
      ],
      "metadata": {
        "colab": {
          "base_uri": "https://localhost:8080/"
        },
        "id": "B7eoNTirCfzW",
        "outputId": "7c53d569-3bf7-4def-8176-cfbf0c879740"
      },
      "execution_count": 52,
      "outputs": [
        {
          "output_type": "stream",
          "name": "stdout",
          "text": [
            "Epoch 1/15\n",
            "57/57 [==============================] - 9s 96ms/step - loss: 0.0685 - accuracy: 0.9744\n",
            "Epoch 2/15\n",
            "57/57 [==============================] - 6s 96ms/step - loss: 0.0516 - accuracy: 0.9861\n",
            "Epoch 3/15\n",
            "57/57 [==============================] - 6s 99ms/step - loss: 0.0472 - accuracy: 0.9894\n",
            "Epoch 4/15\n",
            "57/57 [==============================] - 6s 97ms/step - loss: 0.0396 - accuracy: 0.9944\n",
            "Epoch 5/15\n",
            "57/57 [==============================] - 6s 99ms/step - loss: 0.0364 - accuracy: 0.9961\n",
            "Epoch 6/15\n",
            "57/57 [==============================] - 6s 98ms/step - loss: 0.0297 - accuracy: 0.9972\n",
            "Epoch 7/15\n",
            "57/57 [==============================] - 6s 101ms/step - loss: 0.0280 - accuracy: 0.9972\n",
            "Epoch 8/15\n",
            "57/57 [==============================] - 6s 98ms/step - loss: 0.0279 - accuracy: 0.9967\n",
            "Epoch 9/15\n",
            "57/57 [==============================] - 6s 101ms/step - loss: 0.0234 - accuracy: 0.9989\n",
            "Epoch 10/15\n",
            "57/57 [==============================] - 6s 98ms/step - loss: 0.0210 - accuracy: 0.9994\n",
            "Epoch 11/15\n",
            "57/57 [==============================] - 6s 98ms/step - loss: 0.0183 - accuracy: 1.0000\n",
            "Epoch 12/15\n",
            "57/57 [==============================] - 6s 97ms/step - loss: 0.0167 - accuracy: 0.9989\n",
            "Epoch 13/15\n",
            "57/57 [==============================] - 6s 99ms/step - loss: 0.0157 - accuracy: 0.9994\n",
            "Epoch 14/15\n",
            "57/57 [==============================] - 6s 96ms/step - loss: 0.0152 - accuracy: 1.0000\n",
            "Epoch 15/15\n",
            "57/57 [==============================] - 6s 99ms/step - loss: 0.0142 - accuracy: 1.0000\n"
          ]
        },
        {
          "output_type": "execute_result",
          "data": {
            "text/plain": [
              "<keras.src.callbacks.History at 0x7d385ce3d630>"
            ]
          },
          "metadata": {},
          "execution_count": 52
        }
      ]
    },
    {
      "cell_type": "code",
      "source": [
        "test_ds5 = tf.keras.preprocessing.image_dataset_from_directory(\"lab6/test3\",\n",
        "    label_mode=\"categorical\",\n",
        "    color_mode=\"rgb\",\n",
        "    batch_size=32,\n",
        "    image_size=(224, 224))"
      ],
      "metadata": {
        "colab": {
          "base_uri": "https://localhost:8080/"
        },
        "id": "aAP_a41aCfw4",
        "outputId": "be312817-b11b-458b-e1ef-a15be4f0f67c"
      },
      "execution_count": 55,
      "outputs": [
        {
          "output_type": "stream",
          "name": "stdout",
          "text": [
            "Found 200 files belonging to 2 classes.\n"
          ]
        }
      ]
    },
    {
      "cell_type": "code",
      "source": [
        "test_loss, test_acc = model4.evaluate(test_ds5, verbose=2)\n",
        "print(test_acc)"
      ],
      "metadata": {
        "colab": {
          "base_uri": "https://localhost:8080/"
        },
        "id": "vVDbPamgCfuY",
        "outputId": "52fc7553-4baa-4fef-8bba-3644d12cbfc0"
      },
      "execution_count": 58,
      "outputs": [
        {
          "output_type": "stream",
          "name": "stdout",
          "text": [
            "7/7 - 1s - loss: 0.2141 - accuracy: 0.9050 - 751ms/epoch - 107ms/step\n",
            "0.9049999713897705\n"
          ]
        }
      ]
    }
  ],
  "metadata": {
    "accelerator": "GPU",
    "colab": {
      "collapsed_sections": [
        "x4HI2mpwlrcn"
      ],
      "provenance": [],
      "gpuType": "T4"
    },
    "kernelspec": {
      "display_name": "Python 3",
      "name": "python3"
    }
  },
  "nbformat": 4,
  "nbformat_minor": 0
}